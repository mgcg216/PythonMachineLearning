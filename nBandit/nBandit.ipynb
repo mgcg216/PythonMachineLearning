{
 "cells": [
  {
   "cell_type": "markdown",
   "metadata": {
    "collapsed": true
   },
   "source": [
    "Two-Armed Bandit"
   ]
  },
  {
   "cell_type": "code",
   "execution_count": 1,
   "metadata": {},
   "outputs": [],
   "source": [
    "import tensorflow as tf\n",
    "import numpy as np"
   ]
  },
  {
   "cell_type": "heading",
   "metadata": {},
   "level": 1,
   "source": [
    "The Bandit\n",
    "Here we define our bandits. For this example we are using a fou-armed bandit. The pullBandit function generates a random number from a normal distribution with a mean of 0. The lower the bandit number, the more likely a positive reward will be returned. We want our agent to learn to always choose the bandit that will give that positive reward"
   ]
  },
  {
   "cell_type": "code",
   "execution_count": 11,
   "metadata": {},
   "outputs": [],
   "source": [
    "# List out our bandist. Current bandit 5 (index#3) is set to most often provide a reward\n",
    "bandits = [0.2, 0, -0.2, -5]\n",
    "num_bandits = len(bandits)\n",
    "\n",
    "\n",
    "def pullBandit(bandit):\n",
    "    # Get a random number.\n",
    "    result = np.random.randn(1)\n",
    "    if result > bandit:\n",
    "        # Return a positive reward.\n",
    "        return 1\n",
    "    else:\n",
    "        # Return a negative reward\n",
    "        return -1\n"
   ]
  },
  {
   "cell_type": "heading",
   "metadata": {},
   "level": 1,
   "source": [
    "The Agent: The code below exstablished our simple neural agent. It consists of a set of values for each of the bandits. Each value is an estimate of the value of the return from choosing the bandit. We use a policy gradient method to update the agent by moving the value for the selected action toward the recieved reward."
   ]
  },
  {
   "cell_type": "code",
   "execution_count": 4,
   "metadata": {},
   "outputs": [],
   "source": [
    "tf.reset_default_graph()\n",
    "\n",
    "# These two lines established the feed-forward part of the network. This does the actual choosing.\n",
    "weights = tf.Variable(tf.ones([num_bandits]))\n",
    "chosen_action = tf.argmax(weights, 0)\n",
    "\n",
    "# The next size lines establish the training procedure. We feed the reward and chosen action into the network to compute the loss, and use it to update \n",
    "# the network\n",
    "reward_holder = tf.placeholder(shape=[1], dtype=tf.float32)\n",
    "action_holder = tf.placeholder(shape=[1], dtype=tf.int32)\n",
    "responsible_weight = tf.slice(weights, action_holder, [1])\n",
    "loss = -(tf.log(responsible_weight)*reward_holder)\n",
    "optimizer = tf.train.GradientDescentOptimizer(learning_rate=0.001)\n",
    "update = optimizer.minimize(loss)"
   ]
  },
  {
   "cell_type": "heading",
   "metadata": {},
   "level": 1,
   "source": [
    "Training the Agent: We will train our agent by taking actions in our environment, and recieving rewards. Using the rewards and actions, we can know how to properly update our network in order to more often choose actions that will yield the highest reward over time."
   ]
  },
  {
   "cell_type": "code",
   "execution_count": 12,
   "metadata": {},
   "outputs": [
    {
     "name": "stdout",
     "output_type": "stream",
     "text": [
      "Running reward for the 4 bandits: [-1.  0.  0.  0.]\nRunning reward for the 4 bandits: [-2. 44. -2.  1.]\nRunning reward for the 4 bandits: [-2. 90.  0.  3.]\nRunning reward for the 4 bandits: [ -2. 136.   2.   5.]\nRunning reward for the 4 bandits: [ -2. 184.   2.   5.]\n"
     ]
    },
    {
     "name": "stdout",
     "output_type": "stream",
     "text": [
      "Running reward for the 4 bandits: [ -1. 229.   4.   7.]\nRunning reward for the 4 bandits: [ -1. 277.   2.   7.]\nRunning reward for the 4 bandits: [ -1. 325.   0.   7.]\nRunning reward for the 4 bandits: [  0. 369.   3.   9.]"
     ]
    },
    {
     "name": "stdout",
     "output_type": "stream",
     "text": [
      "\nRunning reward for the 4 bandits: [  0. 418.   3.  10.]\nRunning reward for the 4 bandits: [ -2. 461.   1.  13.]\nRunning reward for the 4 bandits: [ -2. 505.   3.  15.]\nRunning reward for the 4 bandits: [ -3. 553.   4.  15.]\nRunning reward for the 4 bandits: [ -3. 601.   5.  16.]\n"
     ]
    },
    {
     "name": "stdout",
     "output_type": "stream",
     "text": [
      "Running reward for the 4 bandits: [ -5. 648.   6.  16.]\nRunning reward for the 4 bandits: [ -3. 693.   7.  16.]\nRunning reward for the 4 bandits: [ -3. 740.   6.  18.]\nRunning reward for the 4 bandits: [ -3. 786.   6.  18.]\nRunning reward for the 4 bandits: [ -6. 832.   6.  19.]\nRunning reward for the 4 bandits: [ -6. 880.   6.  19.]"
     ]
    },
    {
     "name": "stdout",
     "output_type": "stream",
     "text": [
      "\nThe agent thinks bandit 2 is the most promising....\n...and it was right!\n"
     ]
    }
   ],
   "source": [
    "total_episodes = 1000 # Set total number of episodes to train agent on\n",
    "total_reward = np.zeros(num_bandits) # SEt scoreboard for bandits to 0\n",
    "e = 0.1 #Set the chance of tkaing a random action\n",
    "\n",
    "init = tf.initialize_all_variables()\n",
    "\n",
    "# Launch the tensorflow graph\n",
    "with tf.Session() as sess:\n",
    "    sess.run(init)\n",
    "    i = 0\n",
    "    while i < total_episodes:\n",
    "        # Choose either a random action or one from our network.\n",
    "        if np.random.rand(1) < e:\n",
    "            action = np.random.randint(num_bandits)\n",
    "        else:\n",
    "            action = sess.run(chosen_action)\n",
    "        reward = pullBandit(bandits[action]) # Get our reward from picking one of the bandits.\n",
    "        # Update the network\n",
    "        _, resp, ww = sess.run([update, responsible_weight, weights], feed_dict={reward_holder: [reward], \n",
    "                                                                                 action_holder: [action]})\n",
    "        # Update our running tally of scores\n",
    "        total_reward[action] += reward\n",
    "        if i % 50 == 0:\n",
    "            print(\"Running reward for the \" + str(num_bandits) + \" bandits: \" + str(total_reward))\n",
    "        i +=1\n",
    "print(\"The agent thinks bandit \" + str(np.argmax(ww)+1) + \" is the most promising....\")\n",
    "if np.argmax(ww) == np.argmax(-np.array(bandits)):\n",
    "    print(\"...and it was right!\")\n",
    "else:\n",
    "    print(\"...and it was wrong!\")"
   ]
  },
  {
   "cell_type": "code",
   "execution_count": 7,
   "metadata": {},
   "outputs": [],
   "source": []
  },
  {
   "cell_type": "code",
   "execution_count": null,
   "metadata": {},
   "outputs": [],
   "source": []
  }
 ],
 "metadata": {
  "kernelspec": {
   "display_name": "Python 2",
   "language": "python",
   "name": "python2"
  },
  "language_info": {
   "codemirror_mode": {
    "name": "ipython",
    "version": 2
   },
   "file_extension": ".py",
   "mimetype": "text/x-python",
   "name": "python",
   "nbconvert_exporter": "python",
   "pygments_lexer": "ipython2",
   "version": "2.7.6"
  }
 },
 "nbformat": 4,
 "nbformat_minor": 0
}
